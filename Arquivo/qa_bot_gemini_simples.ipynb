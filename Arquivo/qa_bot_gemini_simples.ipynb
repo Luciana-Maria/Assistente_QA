{
 "cells": [
  {
   "cell_type": "markdown",
   "id": "309121a7",
   "metadata": {},
   "source": [
    "# 🤖 QA Bot (Versão Simples) com Google Gemini\n",
    "Este notebook transforma descrições de funcionalidades em casos de teste no formato BDD e sugestões de testes exploratórios, usando apenas a API do Gemini.\n",
    "\n",
    "**Feito por Luciana 💜**"
   ]
  },
  {
   "cell_type": "code",
   "execution_count": null,
   "id": "0f888f57",
   "metadata": {},
   "outputs": [],
   "source": [
    "# Instalar biblioteca necessária\n",
    "!pip install -q google-genai\n",
    "import os\n",
    "from google.colab import userdata\n",
    "os.environ['GOOGLE_API_KEY'] = userdata.get('GOOGLE_API_KEY')\n",
    "\n",
    "from google import genai\n",
    "client = genai.Client()"
   ]
  },
  {
   "cell_type": "markdown",
   "id": "8c98d97d",
   "metadata": {},
   "source": [
    "### ✨ Criar chat com configuração para QA"
   ]
  },
  {
   "cell_type": "code",
   "execution_count": null,
   "id": "60f141c3",
   "metadata": {},
   "outputs": [],
   "source": [
    "modelo = \"gemini-1.5-pro\"  # ou 'gemini-1.0-pro' se preferir\n",
    "\n",
    "chat = client.chats.create(\n",
    "    model=modelo,\n",
    "    config=genai.types.GenerateContentConfig(\n",
    "        system_instruction=\"\"\"\n",
    "        Você é um analista de qualidade de software (QA).\n",
    "        Receba descrições de funcionalidades e gere casos de teste no formato BDD (Given, When, Then).\n",
    "        Também sugira ao menos 1 teste exploratório relevante.\n",
    "        Use linguagem clara e objetiva.\n",
    "        \"\"\"\n",
    "    )\n",
    ")"
   ]
  },
  {
   "cell_type": "markdown",
   "id": "4f4a7672",
   "metadata": {},
   "source": [
    "### 🧪 Digitar a funcionalidade e gerar os testes"
   ]
  },
  {
   "cell_type": "code",
   "execution_count": null,
   "id": "8d7d69ab",
   "metadata": {},
   "outputs": [],
   "source": [
    "funcionalidade = input(\"Digite a funcionalidade a ser testada: \")\n",
    "resposta = chat.send_message(funcionalidade)\n",
    "print(\"\\n📋 Casos de teste gerados:\\n\")\n",
    "print(resposta.text)"
   ]
  },
  {
   "cell_type": "markdown",
   "id": "c26b08d2",
   "metadata": {},
   "source": [
    "### 💾 (Opcional) Salvar os testes em um arquivo"
   ]
  },
  {
   "cell_type": "code",
   "execution_count": null,
   "id": "0cc28e98",
   "metadata": {},
   "outputs": [],
   "source": [
    "with open(\"casos_de_teste_simples.txt\", \"w\") as f:\n",
    "    f.write(resposta.text)\n",
    "print(\"✅ Arquivo salvo com sucesso!\")"
   ]
  }
 ],
 "metadata": {},
 "nbformat": 4,
 "nbformat_minor": 5
}
